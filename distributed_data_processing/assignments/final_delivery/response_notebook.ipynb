{
 "cells": [
  {
   "cell_type": "markdown",
   "metadata": {
    "application/vnd.databricks.v1+cell": {
     "cellMetadata": {
      "byteLimit": 2048000,
      "rowLimit": 10000
     },
     "inputWidgets": {},
     "nuid": "04038e45-ecd6-461c-8637-af38e6957c5e",
     "showTitle": false,
     "tableResultSettingsMap": {},
     "title": ""
    }
   },
   "source": [
    "This exercise was done using Databricks CE. Cluster with Runtime 12.2 LTS\n",
    "\n",
    "----------\n",
    "\n",
    "Databricks notebooks already initiate a Spark session for the user, and in this exercise we will use it."
   ]
  },
  {
   "cell_type": "code",
   "execution_count": 0,
   "metadata": {
    "application/vnd.databricks.v1+cell": {
     "cellMetadata": {
      "byteLimit": 2048000,
      "rowLimit": 10000
     },
     "inputWidgets": {},
     "nuid": "badd7579-0a1e-4f01-bcfb-52ed8ad6aea6",
     "showTitle": false,
     "tableResultSettingsMap": {},
     "title": ""
    }
   },
   "outputs": [
    {
     "output_type": "display_data",
     "data": {
      "text/html": [
       "\n",
       "            <div>\n",
       "                <p><b>SparkSession - hive</b></p>\n",
       "                \n",
       "        <div>\n",
       "            <p><b>SparkContext</b></p>\n",
       "\n",
       "            <p><a href=\"/?o=91431304725133#setting/sparkui/0629-225638-sdn8ng4c/driver-8733369020918356934\">Spark UI</a></p>\n",
       "\n",
       "            <dl>\n",
       "              <dt>Version</dt>\n",
       "                <dd><code>v3.3.2</code></dd>\n",
       "              <dt>Master</dt>\n",
       "                <dd><code>local[8]</code></dd>\n",
       "              <dt>AppName</dt>\n",
       "                <dd><code>Databricks Shell</code></dd>\n",
       "            </dl>\n",
       "        </div>\n",
       "        \n",
       "            </div>\n",
       "        "
      ]
     },
     "metadata": {
      "application/vnd.databricks.v1+output": {
       "addedWidgets": {},
       "arguments": {},
       "data": "\n            <div>\n                <p><b>SparkSession - hive</b></p>\n                \n        <div>\n            <p><b>SparkContext</b></p>\n\n            <p><a href=\"/?o=91431304725133#setting/sparkui/0629-225638-sdn8ng4c/driver-8733369020918356934\">Spark UI</a></p>\n\n            <dl>\n              <dt>Version</dt>\n                <dd><code>v3.3.2</code></dd>\n              <dt>Master</dt>\n                <dd><code>local[8]</code></dd>\n              <dt>AppName</dt>\n                <dd><code>Databricks Shell</code></dd>\n            </dl>\n        </div>\n        \n            </div>\n        ",
       "datasetInfos": [],
       "metadata": {},
       "removedWidgets": [],
       "textData": null,
       "type": "htmlSandbox"
      }
     },
     "output_type": "display_data"
    }
   ],
   "source": [
    "import requests\n",
    "from typing import Union, List\n",
    "\n",
    "from pyspark.sql import Row\n",
    "from pyspark.sql.functions import col, count, abs\n",
    "from pyspark.sql.types import StructType, StructField, StringType, IntegerType\n",
    "spark"
   ]
  },
  {
   "cell_type": "code",
   "execution_count": 0,
   "metadata": {
    "application/vnd.databricks.v1+cell": {
     "cellMetadata": {
      "byteLimit": 2048000,
      "rowLimit": 10000
     },
     "inputWidgets": {},
     "nuid": "864e920f-6096-408e-a3f5-fcde6a321616",
     "showTitle": false,
     "tableResultSettingsMap": {},
     "title": ""
    }
   },
   "outputs": [],
   "source": [
    "GITHUB_DATA_FILE_URL = \"https://raw.githubusercontent.com/heri-macedo/mba-fiap/refs/heads/master/distributed_data_processing/resources/results.csv\""
   ]
  },
  {
   "cell_type": "code",
   "execution_count": 0,
   "metadata": {
    "application/vnd.databricks.v1+cell": {
     "cellMetadata": {
      "byteLimit": 2048000,
      "rowLimit": 10000
     },
     "inputWidgets": {},
     "nuid": "27cdb8ba-aadd-43e6-8a56-66247fd806f2",
     "showTitle": false,
     "tableResultSettingsMap": {},
     "title": ""
    }
   },
   "outputs": [],
   "source": [
    "def create_dataframe_schema(column_list: List[str]) -> StructType:\n",
    "    \"\"\"\n",
    "    Creates a StructType object to provide a schema to create a Spark Dataframe.\n",
    "\n",
    "    Args:\n",
    "        column_list: List[str] -> List os strings, each one is a column name\n",
    "    Returns:\n",
    "        schema: StructType\n",
    "    \"\"\"\n",
    "    fields_list = []\n",
    "    for column in column_list:\n",
    "        fields_list.append(\n",
    "            StructField(\n",
    "                column, StringType(), True\n",
    "            )\n",
    "        )\n",
    "    schema = StructType(fields_list)\n",
    "    return schema"
   ]
  },
  {
   "cell_type": "code",
   "execution_count": 0,
   "metadata": {
    "application/vnd.databricks.v1+cell": {
     "cellMetadata": {
      "byteLimit": 2048000,
      "rowLimit": 10000
     },
     "inputWidgets": {},
     "nuid": "64e7358c-0d1d-466c-b68c-c6ac2eeb849b",
     "showTitle": false,
     "tableResultSettingsMap": {},
     "title": ""
    }
   },
   "outputs": [],
   "source": [
    "results_csv_file_content = requests.get(url=GITHUB_DATA_FILE_URL)\n",
    "content = results_csv_file_content.content\n"
   ]
  },
  {
   "cell_type": "code",
   "execution_count": 0,
   "metadata": {
    "application/vnd.databricks.v1+cell": {
     "cellMetadata": {
      "byteLimit": 2048000,
      "rowLimit": 10000
     },
     "inputWidgets": {},
     "nuid": "895caca0-3a7c-4482-a555-1893406ba68a",
     "showTitle": false,
     "tableResultSettingsMap": {},
     "title": ""
    }
   },
   "outputs": [
    {
     "output_type": "stream",
     "name": "stdout",
     "output_type": "stream",
     "text": [
      "+----------+----------------+---------+----------+---------+-------------------+----------+----------+\n|date      |home_team       |away_team|tournament|city     |country            |home_score|away_score|\n+----------+----------------+---------+----------+---------+-------------------+----------+----------+\n|1872-11-30|Scotland        |England  |Friendly  |Glasgow  |Scotland           |0         |0         |\n|1873-03-08|England         |Scotland |Friendly  |London   |England            |4         |2         |\n|1874-03-07|Scotland        |England  |Friendly  |Glasgow  |Scotland           |2         |1         |\n|1875-03-06|England         |Scotland |Friendly  |London   |England            |2         |2         |\n|1876-03-04|Scotland        |England  |Friendly  |Glasgow  |Scotland           |3         |0         |\n|1876-03-25|Scotland        |Wales    |Friendly  |Glasgow  |Scotland           |4         |0         |\n|1877-03-03|England         |Scotland |Friendly  |London   |England            |1         |3         |\n|1877-03-05|Wales           |Scotland |Friendly  |Wrexham  |Wales              |0         |2         |\n|1878-03-02|Scotland        |England  |Friendly  |Glasgow  |Scotland           |7         |2         |\n|1878-03-23|Scotland        |Wales    |Friendly  |Glasgow  |Scotland           |9         |0         |\n|1879-01-18|England         |Wales    |Friendly  |London   |England            |2         |1         |\n|1879-04-05|England         |Scotland |Friendly  |London   |England            |5         |4         |\n|1879-04-07|Wales           |Scotland |Friendly  |Wrexham  |Wales              |0         |3         |\n|1880-03-13|Scotland        |England  |Friendly  |Glasgow  |Scotland           |5         |4         |\n|1880-03-15|Wales           |England  |Friendly  |Wrexham  |Wales              |2         |3         |\n|1880-03-27|Scotland        |Wales    |Friendly  |Glasgow  |Scotland           |5         |1         |\n|1881-02-26|England         |Wales    |Friendly  |Blackburn|England            |0         |1         |\n|1881-03-12|England         |Scotland |Friendly  |London   |England            |1         |6         |\n|1881-03-14|Wales           |Scotland |Friendly  |Wrexham  |Wales              |1         |5         |\n|1882-02-18|Northern Ireland|England  |Friendly  |Belfast  |Republic of Ireland|0         |13        |\n+----------+----------------+---------+----------+---------+-------------------+----------+----------+\nonly showing top 20 rows\n\n"
     ]
    }
   ],
   "source": [
    "decoded_content = content.decode('utf-8-sig')\n",
    "lines = decoded_content.split(\"\\n\")\n",
    "header_line = lines[0]\n",
    "\n",
    "# Remove empty lines.\n",
    "data_list = [\n",
    "    tuple(line.split(\",\"))\n",
    "    for line in lines[1:]\n",
    "    if line.strip()\n",
    "]\n",
    "\n",
    "data_rdd = spark.sparkContext.parallelize(data_list)\n",
    "header_columns = header_line.split(\",\")\n",
    "\n",
    "schema = create_dataframe_schema(column_list=header_columns)\n",
    "\n",
    "results_df = spark.createDataFrame(data=data_rdd,schema=schema)\n",
    "\n",
    "results_df = (\n",
    "    results_df\n",
    "    .withColumnRenamed(\"home_teamName\", \"home_team\")\n",
    "    .withColumnRenamed(\"away_teamName\", \"away_team\")\n",
    "    .withColumn(\"home_score\", col(\"home_scoreHome\").cast(\"int\"))\n",
    "    .withColumn(\"away_score\", col(\"away_scoreAway\").cast(\"int\"))\n",
    "    .withColumnRenamed(\"tournamentName\", \"tournament\")\n",
    "    .withColumnRenamed(\"cityCity\", \"city\")\n",
    "    .withColumnRenamed(\"countryCountry\", \"country\")\n",
    "    .drop(\"neutralTRUE\\r\")\n",
    "    .drop(\"home_scoreHome\")\n",
    "    .drop(\"away_scoreAway\")\n",
    "    )\n",
    "\n",
    "results_df.cache()\n",
    "results_df.show(truncate=False)"
   ]
  },
  {
   "cell_type": "markdown",
   "metadata": {
    "application/vnd.databricks.v1+cell": {
     "cellMetadata": {
      "byteLimit": 2048000,
      "rowLimit": 10000
     },
     "inputWidgets": {},
     "nuid": "3ad582f1-d586-4c68-b4cd-50ecaddab5b5",
     "showTitle": false,
     "tableResultSettingsMap": {},
     "title": ""
    }
   },
   "source": [
    "\n",
    "# Question 1\n",
    "\n",
    "##Quantos registros existem na base? "
   ]
  },
  {
   "cell_type": "code",
   "execution_count": 0,
   "metadata": {
    "application/vnd.databricks.v1+cell": {
     "cellMetadata": {
      "byteLimit": 2048000,
      "rowLimit": 10000
     },
     "inputWidgets": {},
     "nuid": "b54d4c9b-fd5f-467e-b7a5-48644fbd9b8d",
     "showTitle": false,
     "tableResultSettingsMap": {},
     "title": ""
    }
   },
   "outputs": [
    {
     "output_type": "stream",
     "name": "stdout",
     "output_type": "stream",
     "text": [
      "There are 40839 records.\n"
     ]
    }
   ],
   "source": [
    "total_count = results_df.count()\n",
    "print(f\"There are {total_count} records.\")"
   ]
  },
  {
   "cell_type": "markdown",
   "metadata": {
    "application/vnd.databricks.v1+cell": {
     "cellMetadata": {
      "byteLimit": 2048000,
      "rowLimit": 10000
     },
     "inputWidgets": {},
     "nuid": "3852125b-eeb0-49a7-b293-2c7f603f0685",
     "showTitle": false,
     "tableResultSettingsMap": {},
     "title": ""
    }
   },
   "source": [
    "#Question 2\n",
    "\n",
    "##Quantas equipes únicas mandantes existem na base?"
   ]
  },
  {
   "cell_type": "code",
   "execution_count": 0,
   "metadata": {
    "application/vnd.databricks.v1+cell": {
     "cellMetadata": {
      "byteLimit": 2048000,
      "rowLimit": 10000
     },
     "inputWidgets": {},
     "nuid": "e682f85a-520c-4a01-acd6-b195c149de69",
     "showTitle": false,
     "tableResultSettingsMap": {},
     "title": ""
    }
   },
   "outputs": [
    {
     "output_type": "stream",
     "name": "stdout",
     "output_type": "stream",
     "text": [
      "There are 309 distinct home teams.\n"
     ]
    }
   ],
   "source": [
    "distinct_home_teams = (\n",
    "    results_df\n",
    "    .select(\"home_team\")\n",
    "    .distinct()\n",
    ")\n",
    "count_distinct_home_teams = distinct_home_teams.count()\n",
    "print(f\"There are {count_distinct_home_teams} distinct home teams.\")"
   ]
  },
  {
   "cell_type": "markdown",
   "metadata": {
    "application/vnd.databricks.v1+cell": {
     "cellMetadata": {
      "byteLimit": 2048000,
      "rowLimit": 10000
     },
     "inputWidgets": {},
     "nuid": "27ce01e6-32b1-43b1-b30d-f3ef112a0469",
     "showTitle": false,
     "tableResultSettingsMap": {},
     "title": ""
    }
   },
   "source": [
    "#Question 3\n",
    "\n",
    "##Quantas vezes as equipes mandantes saíram vitoriosas?"
   ]
  },
  {
   "cell_type": "code",
   "execution_count": 0,
   "metadata": {
    "application/vnd.databricks.v1+cell": {
     "cellMetadata": {
      "byteLimit": 2048000,
      "rowLimit": 10000
     },
     "inputWidgets": {},
     "nuid": "df69df21-3714-47ce-a53b-e7c6b6a5b1b5",
     "showTitle": false,
     "tableResultSettingsMap": {},
     "title": ""
    }
   },
   "outputs": [
    {
     "output_type": "stream",
     "name": "stdout",
     "output_type": "stream",
     "text": [
      "Home teams won 19864 times.\n"
     ]
    }
   ],
   "source": [
    "results_df_q3 = (\n",
    "  results_df\n",
    "  .where(col(\"home_score\") > col(\"away_score\"))\n",
    ")\n",
    "total_home_team_wins = results_df_q3.count()\n",
    "print(f\"Home teams won {total_home_team_wins} times.\")"
   ]
  },
  {
   "cell_type": "markdown",
   "metadata": {
    "application/vnd.databricks.v1+cell": {
     "cellMetadata": {
      "byteLimit": 2048000,
      "rowLimit": 10000
     },
     "inputWidgets": {},
     "nuid": "3a9335e0-57ff-4a27-84c8-3c75a0cef537",
     "showTitle": false,
     "tableResultSettingsMap": {},
     "title": ""
    }
   },
   "source": [
    "#Question 4\n",
    "\n",
    "##Quantas vezes as equipes visitantes saíram vitoriosas?"
   ]
  },
  {
   "cell_type": "code",
   "execution_count": 0,
   "metadata": {
    "application/vnd.databricks.v1+cell": {
     "cellMetadata": {
      "byteLimit": 2048000,
      "rowLimit": 10000
     },
     "inputWidgets": {},
     "nuid": "6595c121-5ab7-4e30-89b1-0a1136c01efd",
     "showTitle": false,
     "tableResultSettingsMap": {},
     "title": ""
    }
   },
   "outputs": [
    {
     "output_type": "stream",
     "name": "stdout",
     "output_type": "stream",
     "text": [
      "Away teams won 11544 times.\n"
     ]
    }
   ],
   "source": [
    "results_df_q4 = (\n",
    "  results_df\n",
    "  .where(col(\"away_score\") > col(\"home_score\"))\n",
    ")\n",
    "total_away_team_wins = results_df_q4.count()\n",
    "print(f\"Away teams won {total_away_team_wins} times.\")"
   ]
  },
  {
   "cell_type": "markdown",
   "metadata": {
    "application/vnd.databricks.v1+cell": {
     "cellMetadata": {
      "byteLimit": 2048000,
      "rowLimit": 10000
     },
     "inputWidgets": {},
     "nuid": "d3871bb2-20da-4da5-974b-5de6ff694ee0",
     "showTitle": false,
     "tableResultSettingsMap": {},
     "title": ""
    }
   },
   "source": [
    "#Question 5\n",
    "\n",
    "##Quantas partidas resultaram em empate?"
   ]
  },
  {
   "cell_type": "code",
   "execution_count": 0,
   "metadata": {
    "application/vnd.databricks.v1+cell": {
     "cellMetadata": {
      "byteLimit": 2048000,
      "rowLimit": 10000
     },
     "inputWidgets": {},
     "nuid": "889ef371-1c64-43e3-9327-7976726a2e34",
     "showTitle": false,
     "tableResultSettingsMap": {},
     "title": ""
    }
   },
   "outputs": [
    {
     "output_type": "stream",
     "name": "stdout",
     "output_type": "stream",
     "text": [
      "Away teams won 9431 times.\n"
     ]
    }
   ],
   "source": [
    "results_df_q5 = (\n",
    "  results_df\n",
    "  .where(col(\"away_score\") == col(\"home_score\"))\n",
    ")\n",
    "total_draws = results_df_q5.count()\n",
    "print(f\"Away teams won {total_draws} times.\")"
   ]
  },
  {
   "cell_type": "markdown",
   "metadata": {
    "application/vnd.databricks.v1+cell": {
     "cellMetadata": {
      "byteLimit": 2048000,
      "rowLimit": 10000
     },
     "inputWidgets": {},
     "nuid": "f5db282d-09d5-46d6-aed9-deb361b85d63",
     "showTitle": false,
     "tableResultSettingsMap": {},
     "title": ""
    }
   },
   "source": [
    "#Question 6\n",
    "\n",
    "##Quantas partidas foram realizadas em cada país?"
   ]
  },
  {
   "cell_type": "code",
   "execution_count": 0,
   "metadata": {
    "application/vnd.databricks.v1+cell": {
     "cellMetadata": {
      "byteLimit": 2048000,
      "rowLimit": 10000
     },
     "inputWidgets": {},
     "nuid": "74fa211b-2cd6-4121-a373-033c780c34fb",
     "showTitle": false,
     "tableResultSettingsMap": {},
     "title": ""
    }
   },
   "outputs": [
    {
     "output_type": "stream",
     "name": "stdout",
     "output_type": "stream",
     "text": [
      "+--------------------+-----+\n|country             |count|\n+--------------------+-----+\n|United States       |1144 |\n|France              |801  |\n|England             |687  |\n|Malaysia            |644  |\n|Sweden              |637  |\n|Germany             |581  |\n|Brazil              |529  |\n|Spain               |517  |\n|Thailand            |483  |\n|Italy               |480  |\n|Switzerland         |477  |\n|Austria             |475  |\n|United Arab Emirates|472  |\n|South Africa        |470  |\n|Qatar               |467  |\n|South Korea         |453  |\n|Argentina           |449  |\n|Hungary             |431  |\n|Chile               |405  |\n|Belgium             |396  |\n+--------------------+-----+\nonly showing top 20 rows\n\n"
     ]
    }
   ],
   "source": [
    "results_df_q6 = (\n",
    "    results_df\n",
    "    .groupBy(\"country\")\n",
    "    .count()\n",
    "    .orderBy(\"count\", ascending=False)\n",
    ")\n",
    "results_df_q6.show(truncate=False)"
   ]
  },
  {
   "cell_type": "markdown",
   "metadata": {
    "application/vnd.databricks.v1+cell": {
     "cellMetadata": {
      "byteLimit": 2048000,
      "rowLimit": 10000
     },
     "inputWidgets": {},
     "nuid": "35c66211-1d3b-4206-9447-cbd0f7ad8d64",
     "showTitle": false,
     "tableResultSettingsMap": {},
     "title": ""
    }
   },
   "source": [
    "# Question 7\n",
    "\n",
    "## Qual país teve mais partidas?"
   ]
  },
  {
   "cell_type": "code",
   "execution_count": 0,
   "metadata": {
    "application/vnd.databricks.v1+cell": {
     "cellMetadata": {
      "byteLimit": 2048000,
      "rowLimit": 10000
     },
     "inputWidgets": {},
     "nuid": "49900ea0-8ac9-448f-88b5-b4f3dcd94379",
     "showTitle": false,
     "tableResultSettingsMap": {},
     "title": ""
    }
   },
   "outputs": [
    {
     "output_type": "stream",
     "name": "stdout",
     "output_type": "stream",
     "text": [
      "Country were the highest number of matches took place is United States with 1144 total matches.\n"
     ]
    }
   ],
   "source": [
    "results_df_q7 = (\n",
    "    results_df\n",
    "    .groupBy(\"country\")\n",
    "    .count()\n",
    "    .orderBy(\"count\", ascending=False)\n",
    "    .limit(1)\n",
    ")\n",
    "top_matches_country = results_df_q7.collect()\n",
    "top_country_name = top_matches_country[0][\"country\"]\n",
    "total_matches =  top_matches_country[0][\"count\"]\n",
    "print(f\"Country were the highest number of matches took place is {top_country_name} with {total_matches} total matches.\")"
   ]
  },
  {
   "cell_type": "markdown",
   "metadata": {
    "application/vnd.databricks.v1+cell": {
     "cellMetadata": {
      "byteLimit": 2048000,
      "rowLimit": 10000
     },
     "inputWidgets": {},
     "nuid": "1a151279-d2ad-441d-a339-50763f84c78a",
     "showTitle": false,
     "tableResultSettingsMap": {},
     "title": ""
    }
   },
   "source": [
    "# Question 8\n",
    "\n",
    "## Qual a partida com maior número de gols?"
   ]
  },
  {
   "cell_type": "code",
   "execution_count": 0,
   "metadata": {
    "application/vnd.databricks.v1+cell": {
     "cellMetadata": {
      "byteLimit": 2048000,
      "rowLimit": 10000
     },
     "inputWidgets": {},
     "nuid": "cd9c863c-e060-4a81-ae17-91c3652478e6",
     "showTitle": false,
     "tableResultSettingsMap": {},
     "title": ""
    }
   },
   "outputs": [
    {
     "output_type": "stream",
     "name": "stdout",
     "output_type": "stream",
     "text": [
      "The highest-scoring match was Australia against American Samoa in FIFA World Cup qualification on 2001-04-11 with 31 goals.\n+----------+---------+--------------+----------------------------+-------------+---------+----------+----------+-----------+\n|date      |home_team|away_team     |tournament                  |city         |country  |home_score|away_score|total_goals|\n+----------+---------+--------------+----------------------------+-------------+---------+----------+----------+-----------+\n|2001-04-11|Australia|American Samoa|FIFA World Cup qualification|Coffs Harbour|Australia|31        |0         |31         |\n+----------+---------+--------------+----------------------------+-------------+---------+----------+----------+-----------+\n\n"
     ]
    }
   ],
   "source": [
    "results_df_q8 = (\n",
    "    results_df\n",
    "    .withColumn(\"total_goals\", col(\"home_score\") + col(\"away_score\"))\n",
    "    .orderBy(\"total_goals\", ascending=False)\n",
    "    .limit(1)\n",
    ")\n",
    "top_goals_match = results_df_q8.collect()\n",
    "row = top_goals_match[0]\n",
    "print(f\"The highest-scoring match was {row.home_team} against {row.away_team} in {row.tournament} on {row.date} with {row.total_goals} goals.\")\n",
    "results_df_q8.show(truncate=False)"
   ]
  },
  {
   "cell_type": "markdown",
   "metadata": {
    "application/vnd.databricks.v1+cell": {
     "cellMetadata": {
      "byteLimit": 2048000,
      "rowLimit": 10000
     },
     "inputWidgets": {},
     "nuid": "ef92acdd-251d-4112-9fb2-495790129a9f",
     "showTitle": false,
     "tableResultSettingsMap": {},
     "title": ""
    }
   },
   "source": [
    "# Question 9\n",
    "\n",
    "## Qual a maior goleada?"
   ]
  },
  {
   "cell_type": "code",
   "execution_count": 0,
   "metadata": {
    "application/vnd.databricks.v1+cell": {
     "cellMetadata": {
      "byteLimit": 2048000,
      "rowLimit": 10000
     },
     "inputWidgets": {},
     "nuid": "9fc51d1e-ec86-4977-8239-5842073c07da",
     "showTitle": false,
     "tableResultSettingsMap": {},
     "title": ""
    }
   },
   "outputs": [
    {
     "output_type": "stream",
     "name": "stdout",
     "output_type": "stream",
     "text": [
      "Australia’s 31-0 win over American Samoa on 2001-04-11 was the biggest victory.\n+----------+---------+--------------+----------------------------+-------------+---------+----------+----------+----------+\n|date      |home_team|away_team     |tournament                  |city         |country  |home_score|away_score|goals_diff|\n+----------+---------+--------------+----------------------------+-------------+---------+----------+----------+----------+\n|2001-04-11|Australia|American Samoa|FIFA World Cup qualification|Coffs Harbour|Australia|31        |0         |31        |\n+----------+---------+--------------+----------------------------+-------------+---------+----------+----------+----------+\n\n"
     ]
    }
   ],
   "source": [
    "results_df_q9 = (\n",
    "    results_df\n",
    "    .withColumn(\"goals_diff\", abs(col(\"home_score\") - col(\"away_score\")))\n",
    "    .orderBy(\"goals_diff\", ascending=False)\n",
    "    .limit(1)\n",
    ")\n",
    "top_goals_diff_match = results_df_q9.collect()\n",
    "row = top_goals_diff_match[0]\n",
    "print(\n",
    "    f\"{row.home_team}’s {row.home_score}-{row.away_score} win over {row.away_team} on {row.date} was the biggest victory.\"\n",
    ")\n",
    "results_df_q9.show(truncate=False)"
   ]
  },
  {
   "cell_type": "markdown",
   "metadata": {
    "application/vnd.databricks.v1+cell": {
     "cellMetadata": {
      "byteLimit": 2048000,
      "rowLimit": 10000
     },
     "inputWidgets": {},
     "nuid": "8f49dee6-f8ad-460a-ad48-66f5770cc6ca",
     "showTitle": false,
     "tableResultSettingsMap": {},
     "title": ""
    }
   },
   "source": [
    "# Question 10\n",
    "\n",
    "## Quantos jogos ocorreram no Brasil?"
   ]
  },
  {
   "cell_type": "code",
   "execution_count": 0,
   "metadata": {
    "application/vnd.databricks.v1+cell": {
     "cellMetadata": {
      "byteLimit": 2048000,
      "rowLimit": 10000
     },
     "inputWidgets": {},
     "nuid": "c3eea6ff-b66a-4bcb-91b3-8105c37530db",
     "showTitle": false,
     "tableResultSettingsMap": {},
     "title": ""
    }
   },
   "outputs": [
    {
     "output_type": "stream",
     "name": "stdout",
     "output_type": "stream",
     "text": [
      "Number of games in Brazil: 529\n+-------+-----+\n|country|count|\n+-------+-----+\n|Brazil |529  |\n+-------+-----+\n\n"
     ]
    }
   ],
   "source": [
    "results_df_q10 = (\n",
    "    results_df\n",
    "    .where(col(\"country\") == \"Brazil\")\n",
    "    .groupBy(\"country\")\n",
    "    .count()\n",
    ")\n",
    "\n",
    "count_matches_brazil = results_df_q10.collect()\n",
    "row = count_matches_brazil[0]\n",
    "print(f\"Number of games in Brazil: {row['count']}\")\n",
    "results_df_q10.show(truncate=False)"
   ]
  }
 ],
 "metadata": {
  "application/vnd.databricks.v1+notebook": {
   "computePreferences": null,
   "dashboards": [],
   "environmentMetadata": {
    "base_environment": "",
    "environment_version": "1"
   },
   "inputWidgetPreferences": null,
   "language": "python",
   "notebookMetadata": {
    "pythonIndentUnit": 4
   },
   "notebookName": "[RM-364212] Herivelto Macedo - Distributed Data Processing",
   "widgets": {}
  }
 },
 "nbformat": 4,
 "nbformat_minor": 0
}